{
 "cells": [
  {
   "cell_type": "code",
   "execution_count": 127,
   "metadata": {},
   "outputs": [
    {
     "name": "stdout",
     "output_type": "stream",
     "text": [
      "  age sex on thyroxine query on thyroxine on antithyroid medication sick  \\\n",
      "0  41   F            f                  f                         f    f   \n",
      "1  23   F            f                  f                         f    f   \n",
      "2  46   M            f                  f                         f    f   \n",
      "3  70   F            t                  f                         f    f   \n",
      "4  70   F            f                  f                         f    f   \n",
      "\n",
      "  pregnant thyroid surgery I131 treatment query hypothyroid  ... TT4 measured  \\\n",
      "0        f               f              f                 f  ...            t   \n",
      "1        f               f              f                 f  ...            t   \n",
      "2        f               f              f                 f  ...            t   \n",
      "3        f               f              f                 f  ...            t   \n",
      "4        f               f              f                 f  ...            t   \n",
      "\n",
      "   TT4 T4U measured   T4U FTI measured  FTI TBG measured TBG referral source  \\\n",
      "0  125            t  1.14            t  109            f   ?            SVHC   \n",
      "1  102            f     ?            f    ?            f   ?           other   \n",
      "2  109            t  0.91            t  120            f   ?           other   \n",
      "3  175            f     ?            f    ?            f   ?           other   \n",
      "4   61            t  0.87            t   70            f   ?             SVI   \n",
      "\n",
      "  binaryClass  \n",
      "0           P  \n",
      "1           P  \n",
      "2           P  \n",
      "3           P  \n",
      "4           P  \n",
      "\n",
      "[5 rows x 30 columns]\n"
     ]
    }
   ],
   "source": [
    "import pandas as pd\n",
    "\n",
    "data = pd.read_csv('Thyroid Dataset.csv')\n",
    "print(data.head())\n"
   ]
  },
  {
   "cell_type": "code",
   "execution_count": 128,
   "metadata": {},
   "outputs": [
    {
     "name": "stdout",
     "output_type": "stream",
     "text": [
      "binaryClass\n",
      "P    3481\n",
      "N     291\n",
      "Name: count, dtype: int64\n"
     ]
    }
   ],
   "source": [
    "print(data['binaryClass'].value_counts())"
   ]
  },
  {
   "cell_type": "code",
   "execution_count": 129,
   "metadata": {},
   "outputs": [],
   "source": [
    "data['binaryClass'] = data['binaryClass'].str.upper()"
   ]
  },
  {
   "cell_type": "code",
   "execution_count": 130,
   "metadata": {},
   "outputs": [],
   "source": [
    "data['binaryClass'] = data['binaryClass'].map({'P': 1, 'N': 0})"
   ]
  },
  {
   "cell_type": "code",
   "execution_count": 131,
   "metadata": {},
   "outputs": [
    {
     "name": "stdout",
     "output_type": "stream",
     "text": [
      "sex\n",
      "F    2480\n",
      "M    1142\n",
      "?     150\n",
      "Name: count, dtype: int64\n"
     ]
    }
   ],
   "source": [
    "print(data['sex'].value_counts())"
   ]
  },
  {
   "cell_type": "code",
   "execution_count": 133,
   "metadata": {},
   "outputs": [
    {
     "name": "stderr",
     "output_type": "stream",
     "text": [
      "C:\\Users\\HP\\AppData\\Local\\Temp\\ipykernel_2328\\998886094.py:1: FutureWarning: DataFrame.applymap has been deprecated. Use DataFrame.map instead.\n",
      "  data = data.applymap(lambda x: 1 if x == 't' else (0 if x == 'f' else x))\n"
     ]
    }
   ],
   "source": [
    "data = data.applymap(lambda x: 1 if x == 't' else (0 if x == 'f' else x))"
   ]
  },
  {
   "cell_type": "code",
   "execution_count": 134,
   "metadata": {},
   "outputs": [],
   "source": [
    "data['sex'] = data['sex'].map({'F': 0, 'M': 1})\n"
   ]
  },
  {
   "cell_type": "code",
   "execution_count": 135,
   "metadata": {},
   "outputs": [
    {
     "name": "stdout",
     "output_type": "stream",
     "text": [
      "  age  sex  on thyroxine  query on thyroxine  on antithyroid medication  sick  \\\n",
      "0  41  0.0             0                   0                          0     0   \n",
      "1  23  0.0             0                   0                          0     0   \n",
      "2  46  1.0             0                   0                          0     0   \n",
      "3  70  0.0             1                   0                          0     0   \n",
      "4  70  0.0             0                   0                          0     0   \n",
      "\n",
      "   pregnant  thyroid surgery  I131 treatment  query hypothyroid  ...  \\\n",
      "0         0                0               0                  0  ...   \n",
      "1         0                0               0                  0  ...   \n",
      "2         0                0               0                  0  ...   \n",
      "3         0                0               0                  0  ...   \n",
      "4         0                0               0                  0  ...   \n",
      "\n",
      "   TT4 measured  TT4  T4U measured   T4U  FTI measured  FTI  TBG measured TBG  \\\n",
      "0             1  125             1  1.14             1  109             0   ?   \n",
      "1             1  102             0     ?             0    ?             0   ?   \n",
      "2             1  109             1  0.91             1  120             0   ?   \n",
      "3             1  175             0     ?             0    ?             0   ?   \n",
      "4             1   61             1  0.87             1   70             0   ?   \n",
      "\n",
      "   referral source binaryClass  \n",
      "0             SVHC           1  \n",
      "1            other           1  \n",
      "2            other           1  \n",
      "3            other           1  \n",
      "4              SVI           1  \n",
      "\n",
      "[5 rows x 30 columns]\n"
     ]
    }
   ],
   "source": [
    "print(data.head())"
   ]
  },
  {
   "cell_type": "code",
   "execution_count": 136,
   "metadata": {},
   "outputs": [
    {
     "name": "stderr",
     "output_type": "stream",
     "text": [
      "C:\\Users\\HP\\AppData\\Local\\Temp\\ipykernel_2328\\124659752.py:2: FutureWarning: Downcasting object dtype arrays on .fillna, .ffill, .bfill is deprecated and will change in a future version. Call result.infer_objects(copy=False) instead. To opt-in to the future behavior, set `pd.set_option('future.no_silent_downcasting', True)`\n",
      "  data.fillna(0, inplace=True)\n"
     ]
    }
   ],
   "source": [
    "data.replace('?', pd.NA, inplace=True)\n",
    "data.fillna(0, inplace=True)"
   ]
  },
  {
   "cell_type": "code",
   "execution_count": 137,
   "metadata": {},
   "outputs": [
    {
     "name": "stdout",
     "output_type": "stream",
     "text": [
      "Number of samples in the training set: 3017\n",
      "Number of samples in the test set: 755\n"
     ]
    }
   ],
   "source": [
    "from sklearn.model_selection import train_test_split\n",
    "\n",
    "X = data.drop('binaryClass', axis=1)\n",
    "y = data['binaryClass']\n",
    "X_train, X_test, y_train, y_test = train_test_split(X, y, test_size=0.2, random_state=42)\n",
    "\n",
    "print(f\"Number of samples in the training set: {X_train.shape[0]}\")\n",
    "print(f\"Number of samples in the test set: {X_test.shape[0]}\")"
   ]
  },
  {
   "cell_type": "code",
   "execution_count": 138,
   "metadata": {},
   "outputs": [
    {
     "name": "stdout",
     "output_type": "stream",
     "text": [
      "  age  sex  on thyroxine  query on thyroxine  on antithyroid medication  sick  \\\n",
      "0  41  0.0             0                   0                          0     0   \n",
      "1  23  0.0             0                   0                          0     0   \n",
      "2  46  1.0             0                   0                          0     0   \n",
      "3  70  0.0             1                   0                          0     0   \n",
      "4  70  0.0             0                   0                          0     0   \n",
      "\n",
      "   pregnant  thyroid surgery  I131 treatment  query hypothyroid  ...  \\\n",
      "0         0                0               0                  0  ...   \n",
      "1         0                0               0                  0  ...   \n",
      "2         0                0               0                  0  ...   \n",
      "3         0                0               0                  0  ...   \n",
      "4         0                0               0                  0  ...   \n",
      "\n",
      "   TT4 measured  TT4  T4U measured   T4U  FTI measured  FTI  TBG measured TBG  \\\n",
      "0             1  125             1  1.14             1  109             0   0   \n",
      "1             1  102             0     0             0    0             0   0   \n",
      "2             1  109             1  0.91             1  120             0   0   \n",
      "3             1  175             0     0             0    0             0   0   \n",
      "4             1   61             1  0.87             1   70             0   0   \n",
      "\n",
      "   referral source binaryClass  \n",
      "0                1           1  \n",
      "1                4           1  \n",
      "2                4           1  \n",
      "3                4           1  \n",
      "4                3           1  \n",
      "\n",
      "[5 rows x 30 columns]\n"
     ]
    }
   ],
   "source": [
    "from sklearn.preprocessing import LabelEncoder\n",
    "\n",
    "label_encoder = LabelEncoder()\n",
    "data['referral source'] = label_encoder.fit_transform(data['referral source'])\n",
    "\n",
    "print(data.head())\n"
   ]
  },
  {
   "cell_type": "code",
   "execution_count": 139,
   "metadata": {},
   "outputs": [],
   "source": [
    "X = data.drop(columns=['binaryClass'])\n",
    "y = data['binaryClass']\n",
    "\n",
    "from sklearn.model_selection import train_test_split\n",
    "X_train, X_test, y_train, y_test = train_test_split(X, y, test_size=0.2, random_state=42)\n"
   ]
  },
  {
   "cell_type": "code",
   "execution_count": 140,
   "metadata": {},
   "outputs": [
    {
     "name": "stdout",
     "output_type": "stream",
     "text": [
      "Model accuracy: 96.03%\n",
      "Confusion Matrix:\n",
      "[[ 31  27]\n",
      " [  3 694]]\n"
     ]
    }
   ],
   "source": [
    "from sklearn.linear_model import LogisticRegression\n",
    "from sklearn.metrics import accuracy_score, confusion_matrix\n",
    "\n",
    "model = LogisticRegression(max_iter=10000)\n",
    "\n",
    "model.fit(X_train, y_train)\n",
    "\n",
    "y_pred = model.predict(X_test)\n",
    "\n",
    "accuracy = accuracy_score(y_test, y_pred)\n",
    "print(f\"Model accuracy: {accuracy*100:.2f}%\")\n",
    "\n",
    "print(\"Confusion Matrix:\")\n",
    "print(confusion_matrix(y_test, y_pred))\n"
   ]
  },
  {
   "cell_type": "code",
   "execution_count": 141,
   "metadata": {},
   "outputs": [
    {
     "name": "stdout",
     "output_type": "stream",
     "text": [
      "Classification report with threshold 0.4:\n",
      "              precision    recall  f1-score   support\n",
      "\n",
      "           0       0.91      0.52      0.66        58\n",
      "           1       0.96      1.00      0.98       697\n",
      "\n",
      "    accuracy                           0.96       755\n",
      "   macro avg       0.94      0.76      0.82       755\n",
      "weighted avg       0.96      0.96      0.95       755\n",
      "\n"
     ]
    }
   ],
   "source": [
    "import numpy as np\n",
    "from sklearn.metrics import classification_report\n",
    "\n",
    "y_probs = model.predict_proba(X_test)[:, 1]  # Probabilities for the positive class\n",
    "\n",
    "threshold = 0.4  # You can change the threshold here\n",
    "y_pred_threshold = (y_probs >= threshold).astype(int)\n",
    "\n",
    "print(f\"Classification report with threshold {threshold}:\")\n",
    "print(classification_report(y_test, y_pred_threshold))\n"
   ]
  },
  {
   "cell_type": "code",
   "execution_count": 142,
   "metadata": {},
   "outputs": [
    {
     "name": "stdout",
     "output_type": "stream",
     "text": [
      "Decision Tree model accuracy: 99.47%\n",
      "Decision Tree confusion matrix:\n",
      "[[ 55   3]\n",
      " [  1 696]]\n"
     ]
    }
   ],
   "source": [
    "from sklearn.tree import DecisionTreeClassifier\n",
    "\n",
    "tree_model = DecisionTreeClassifier(random_state=42)\n",
    "\n",
    "tree_model.fit(X_train, y_train)\n",
    "\n",
    "y_pred_tree = tree_model.predict(X_test)\n",
    "\n",
    "accuracy_tree = accuracy_score(y_test, y_pred_tree)\n",
    "print(f\"Decision Tree model accuracy: {accuracy_tree*100:.2f}%\")\n",
    "\n",
    "# Displaying the confusion matrix\n",
    "print(\"Decision Tree confusion matrix:\")\n",
    "print(confusion_matrix(y_test, y_pred_tree))\n"
   ]
  },
  {
   "cell_type": "code",
   "execution_count": 143,
   "metadata": {},
   "outputs": [
    {
     "name": "stdout",
     "output_type": "stream",
     "text": [
      "Random Forest model accuracy: 99.87%\n",
      "Random Forest confusion matrix:\n",
      "[[ 58   0]\n",
      " [  1 696]]\n"
     ]
    }
   ],
   "source": [
    "from sklearn.ensemble import RandomForestClassifier\n",
    "\n",
    "rf_model = RandomForestClassifier(random_state=42)\n",
    "\n",
    "rf_model.fit(X_train, y_train)\n",
    "\n",
    "y_pred_rf = rf_model.predict(X_test)\n",
    "\n",
    "accuracy_rf = accuracy_score(y_test, y_pred_rf)\n",
    "print(f\"Random Forest model accuracy: {accuracy_rf*100:.2f}%\")\n",
    "\n",
    "print(\"Random Forest confusion matrix:\")\n",
    "print(confusion_matrix(y_test, y_pred_rf))\n"
   ]
  },
  {
   "cell_type": "code",
   "execution_count": 144,
   "metadata": {},
   "outputs": [
    {
     "name": "stdout",
     "output_type": "stream",
     "text": [
      "SVM model accuracy: 94.97%\n",
      "SVM model confusion matrix:\n",
      "[[ 23  35]\n",
      " [  3 694]]\n"
     ]
    }
   ],
   "source": [
    "from sklearn.svm import SVC\n",
    "\n",
    "svm_model = SVC(probability=True, random_state=42)\n",
    "\n",
    "svm_model.fit(X_train, y_train)\n",
    "\n",
    "y_pred_svm = svm_model.predict(X_test)\n",
    "\n",
    "accuracy_svm = accuracy_score(y_test, y_pred_svm)\n",
    "print(f\"SVM model accuracy: {accuracy_svm*100:.2f}%\")\n",
    "\n",
    "print(\"SVM model confusion matrix:\")\n",
    "print(confusion_matrix(y_test, y_pred_svm))\n"
   ]
  },
  {
   "cell_type": "code",
   "execution_count": 145,
   "metadata": {},
   "outputs": [
    {
     "name": "stdout",
     "output_type": "stream",
     "text": [
      "Cross-Validation results for the Logistic Regression model:\n",
      "[0.95529801 0.95860927 0.96517413 0.96185738 0.95522388]\n",
      "Average: 0.96\n"
     ]
    }
   ],
   "source": [
    "from sklearn.model_selection import cross_val_score\n",
    "\n",
    "cv_scores = cross_val_score(model, X_train, y_train, cv=5)  # cv=5 means 5 splits\n",
    "\n",
    "print(f\"Cross-Validation results for the Logistic Regression model:\")\n",
    "print(cv_scores)\n",
    "print(f\"Average: {np.mean(cv_scores):.2f}\")\n"
   ]
  },
  {
   "cell_type": "code",
   "execution_count": 146,
   "metadata": {},
   "outputs": [
    {
     "name": "stdout",
     "output_type": "stream",
     "text": [
      "Best parameters: {'C': 10, 'solver': 'liblinear'}\n",
      "Model accuracy after GridSearch: 96.69%\n"
     ]
    }
   ],
   "source": [
    "from sklearn.model_selection import GridSearchCV\n",
    "\n",
    "param_grid = {\n",
    "    'C': [0.01, 0.1, 1, 10],  # The C parameter in Logistic Regression\n",
    "    'solver': ['liblinear', 'saga']  # Solver algorithms\n",
    "}\n",
    "\n",
    "grid_search = GridSearchCV(LogisticRegression(max_iter=10000), param_grid, cv=5, n_jobs=-1)\n",
    "\n",
    "grid_search.fit(X_train, y_train)\n",
    "\n",
    "print(\"Best parameters:\", grid_search.best_params_)\n",
    "\n",
    "y_pred_grid = grid_search.best_estimator_.predict(X_test)\n",
    "\n",
    "accuracy_grid = accuracy_score(y_test, y_pred_grid)\n",
    "print(f\"Model accuracy after GridSearch: {accuracy_grid*100:.2f}%\")\n"
   ]
  },
  {
   "cell_type": "code",
   "execution_count": 147,
   "metadata": {},
   "outputs": [
    {
     "data": {
      "image/png": "[encoded data removed]",
      "text/plain": [
       "<Figure size 800x600 with 2 Axes>"
      ]
     },
     "metadata": {},
     "output_type": "display_data"
    }
   ],
   "source": [
    "import seaborn as sns\n",
    "import matplotlib.pyplot as plt\n",
    "from sklearn.metrics import confusion_matrix\n",
    "\n",
    "cm = confusion_matrix(y_test, y_pred)\n",
    "\n",
    "plt.figure(figsize=(8, 6))\n",
    "sns.heatmap(cm, annot=True, fmt='g', cmap='Blues', xticklabels=['Negative', 'Positive'], yticklabels=['Negative', 'Positive'])\n",
    "plt.xlabel('Predicted')\n",
    "plt.ylabel('True')\n",
    "plt.title('Confusion Matrix')\n",
    "plt.show()\n"
   ]
  },
  {
   "cell_type": "code",
   "execution_count": 52,
   "metadata": {},
   "outputs": [
    {
     "name": "stdout",
     "output_type": "stream",
     "text": [
      "              precision    recall  f1-score   support\n",
      "\n",
      "           0       0.91      0.53      0.67        58\n",
      "           1       0.96      1.00      0.98       697\n",
      "\n",
      "    accuracy                           0.96       755\n",
      "   macro avg       0.94      0.77      0.83       755\n",
      "weighted avg       0.96      0.96      0.96       755\n",
      "\n"
     ]
    }
   ],
   "source": [
    "from sklearn.metrics import classification_report\n",
    "\n",
    "report = classification_report(y_test, y_pred)\n",
    "\n",
    "print(report)\n"
   ]
  },
  {
   "cell_type": "code",
   "execution_count": 53,
   "metadata": {},
   "outputs": [
    {
     "name": "stderr",
     "output_type": "stream",
     "text": [
      "C:\\Users\\HP\\AppData\\Local\\Temp\\ipykernel_2328\\2991557430.py:6: FutureWarning: \n",
      "\n",
      "Passing `palette` without assigning `hue` is deprecated and will be removed in v0.14.0. Assign the `x` variable to `hue` and set `legend=False` for the same effect.\n",
      "\n",
      "  sns.countplot(x=y_pred, palette='coolwarm', label=\"Predicted Class\")\n",
      "C:\\Users\\HP\\AppData\\Local\\Temp\\ipykernel_2328\\2991557430.py:7: FutureWarning: \n",
      "\n",
      "Passing `palette` without assigning `hue` is deprecated and will be removed in v0.14.0. Assign the `x` variable to `hue` and set `legend=False` for the same effect.\n",
      "\n",
      "  sns.countplot(x=y_test, palette='dark', alpha=0.5, label=\"True Class\")\n"
     ]
    },
    {
     "data": {
      "image/png": "[encoded data removed]",
      "text/plain": [
       "<Figure size 1000x600 with 1 Axes>"
      ]
     },
     "metadata": {},
     "output_type": "display_data"
    }
   ],
   "source": [
    "import seaborn as sns\n",
    "import matplotlib.pyplot as plt\n",
    "\n",
    "plt.figure(figsize=(10, 6))\n",
    "sns.countplot(x=y_pred, palette='coolwarm', label=\"Predicted Class\")\n",
    "sns.countplot(x=y_test, palette='dark', alpha=0.5, label=\"True Class\")\n",
    "plt.title(\"Comparison between True and Predicted Class Distribution\")\n",
    "plt.xlabel(\"Class\")\n",
    "plt.ylabel(\"Count\")\n",
    "plt.legend()\n",
    "plt.show()\n"
   ]
  },
  {
   "cell_type": "code",
   "execution_count": 55,
   "metadata": {},
   "outputs": [
    {
     "name": "stdout",
     "output_type": "stream",
     "text": [
      "Length of X_pca: 3772\n",
      "Length of y_pred: 755\n"
     ]
    }
   ],
   "source": [
    "print(\"Length of X_pca:\", len(X_pca))\n",
    "print(\"Length of y_pred:\", len(y_pred))\n"
   ]
  },
  {
   "cell_type": "code",
   "execution_count": null,
   "metadata": {},
   "outputs": [
    {
     "name": "stdout",
     "output_type": "stream",
     "text": [
      "Length of X_test_pca: 755\n",
      "Length of y_pred: 755\n"
     ]
    },
    {
     "data": {
      "image/png": "[encoded data removed]",
      "text/plain": [
       "<Figure size 800x600 with 1 Axes>"
      ]
     },
     "metadata": {},
     "output_type": "display_data"
    }
   ],
   "source": [
    "X_test_pca = pca.transform(X_test)  \n",
    "\n",
    "print(\"Length of X_test_pca:\", len(X_test_pca))\n",
    "print(\"Length of y_pred:\", len(y_pred))\n",
    "\n",
    "if len(X_test_pca) == len(y_pred):\n",
    "    plt.figure(figsize=(8, 6))\n",
    "    sns.scatterplot(x=X_test_pca[:, 0], y=X_test_pca[:, 1], hue=y_pred, palette='coolwarm', s=100)\n",
    "    plt.title(\"PCA 2D Projection of Test Data\")\n",
    "    plt.show()\n",
    "else:\n",
    "    print(\"The dimensions of X_test_pca and y_pred still do not match.\")\n"
   ]
  },
  {
   "cell_type": "code",
   "execution_count": 117,
   "metadata": {},
   "outputs": [
    {
     "name": "stdout",
     "output_type": "stream",
     "text": [
      "Length of X_pca: 755\n",
      "Length of y_pred: 755\n"
     ]
    },
    {
     "data": {
      "image/png": "[encoded data removed]",
      "text/plain": [
       "<Figure size 800x600 with 1 Axes>"
      ]
     },
     "metadata": {},
     "output_type": "display_data"
    }
   ],
   "source": [
    "import numpy as np\n",
    "import seaborn as sns\n",
    "import matplotlib.pyplot as plt\n",
    "from sklearn.decomposition import PCA\n",
    "from sklearn.linear_model import LogisticRegression\n",
    "\n",
    "pca = PCA(n_components=2)\n",
    "X_pca = pca.fit_transform(X_test)\n",
    "\n",
    "print(f\"Length of X_pca: {len(X_pca)}\")\n",
    "print(f\"Length of y_pred: {len(y_pred)}\")\n",
    "\n",
    "if len(X_pca) == len(y_pred):\n",
    "    plt.figure(figsize=(8, 6))\n",
    "    sns.scatterplot(x=X_pca[:, 0], y=X_pca[:, 1], hue=y_pred, palette='coolwarm', s=100)\n",
    "    plt.title(\"PCA 2D Projection of Data\")\n",
    "    plt.show()\n",
    "else:\n",
    "    print(\"The lengths of X_pca and y_pred are not equal. Please ensure they match.\")\n"
   ]
  },
  {
   "cell_type": "code",
   "execution_count": 118,
   "metadata": {},
   "outputs": [
    {
     "name": "stdout",
     "output_type": "stream",
     "text": [
      "Fitting 5 folds for each of 45 candidates, totalling 225 fits\n",
      "Best parameters : {'C': 100, 'max_iter': 100, 'solver': 'liblinear'}\n"
     ]
    }
   ],
   "source": [
    "from sklearn.model_selection import GridSearchCV\n",
    "from sklearn.linear_model import LogisticRegression\n",
    "\n",
    "param_grid = {\n",
    "    'C': [0.01, 0.1, 1, 10, 100],\n",
    "    'solver': ['liblinear', 'saga', 'lbfgs'],\n",
    "    'max_iter': [100, 200, 500]\n",
    "}\n",
    "\n",
    "grid_search = GridSearchCV(LogisticRegression(), param_grid, cv=5, verbose=1, n_jobs=-1)\n",
    "grid_search.fit(X_train, y_train)\n",
    "\n",
    "print(f\"Best parameters : {grid_search.best_params_}\")\n"
   ]
  },
  {
   "cell_type": "code",
   "execution_count": 119,
   "metadata": {},
   "outputs": [
    {
     "name": "stdout",
     "output_type": "stream",
     "text": [
      "Model accuracy after optimization: 97.22%\n"
     ]
    }
   ],
   "source": [
    "from sklearn.linear_model import LogisticRegression\n",
    "\n",
    "# Define the best model with the optimized hyperparameters\n",
    "best_model = LogisticRegression(C=100, max_iter=100, solver='liblinear')\n",
    "\n",
    "# Train the model\n",
    "best_model.fit(X_train, y_train)\n",
    "\n",
    "# Calculate accuracy on the test set\n",
    "accuracy = best_model.score(X_test, y_test)\n",
    "\n",
    "# Print the accuracy\n",
    "print(f\"Model accuracy after optimization: {accuracy * 100:.2f}%\")\n"
   ]
  },
  {
   "cell_type": "code",
   "execution_count": 60,
   "metadata": {},
   "outputs": [
    {
     "data": {
      "image/png": "[encoded data removed]",
      "text/plain": [
       "<Figure size 800x600 with 2 Axes>"
      ]
     },
     "metadata": {},
     "output_type": "display_data"
    }
   ],
   "source": [
    "from sklearn.metrics import confusion_matrix\n",
    "import seaborn as sns\n",
    "import matplotlib.pyplot as plt\n",
    "\n",
    "y_pred = best_model.predict(X_test)\n",
    "cm = confusion_matrix(y_test, y_pred)\n",
    "\n",
    "plt.figure(figsize=(8, 6))\n",
    "sns.heatmap(cm, annot=True, fmt='d', cmap='Blues', xticklabels=['Class 0', 'Class 1'], yticklabels=['Class 0', 'Class 1'])\n",
    "plt.title('Confusion Matrix')\n",
    "plt.show()\n"
   ]
  },
  {
   "cell_type": "code",
   "execution_count": 61,
   "metadata": {},
   "outputs": [
    {
     "name": "stdout",
     "output_type": "stream",
     "text": [
      "              precision    recall  f1-score   support\n",
      "\n",
      "           0       0.97      0.66      0.78        58\n",
      "           1       0.97      1.00      0.99       697\n",
      "\n",
      "    accuracy                           0.97       755\n",
      "   macro avg       0.97      0.83      0.88       755\n",
      "weighted avg       0.97      0.97      0.97       755\n",
      "\n"
     ]
    }
   ],
   "source": [
    "from sklearn.metrics import classification_report\n",
    "\n",
    "print(classification_report(y_test, y_pred))\n"
   ]
  },
  {
   "cell_type": "code",
   "execution_count": null,
   "metadata": {},
   "outputs": [],
   "source": [
    "pip install imbalanced-learn\n"
   ]
  },
  {
   "cell_type": "code",
   "execution_count": null,
   "metadata": {},
   "outputs": [],
   "source": [
    "pip install streamlit\n"
   ]
  },
  {
   "cell_type": "code",
   "execution_count": 148,
   "metadata": {},
   "outputs": [
    {
     "name": "stderr",
     "output_type": "stream",
     "text": [
      "2025-01-07 00:40:41.792 Thread 'MainThread': missing ScriptRunContext! This warning can be ignored when running in bare mode.\n",
      "2025-01-07 00:40:41.793 Thread 'MainThread': missing ScriptRunContext! This warning can be ignored when running in bare mode.\n",
      "2025-01-07 00:40:41.794 Thread 'MainThread': missing ScriptRunContext! This warning can be ignored when running in bare mode.\n",
      "2025-01-07 00:40:41.795 Thread 'MainThread': missing ScriptRunContext! This warning can be ignored when running in bare mode.\n",
      "2025-01-07 00:40:41.796 Thread 'MainThread': missing ScriptRunContext! This warning can be ignored when running in bare mode.\n",
      "2025-01-07 00:40:41.798 Thread 'MainThread': missing ScriptRunContext! This warning can be ignored when running in bare mode.\n",
      "2025-01-07 00:40:41.935 Thread 'MainThread': missing ScriptRunContext! This warning can be ignored when running in bare mode.\n",
      "2025-01-07 00:40:41.938 Thread 'MainThread': missing ScriptRunContext! This warning can be ignored when running in bare mode.\n",
      "2025-01-07 00:40:41.940 Thread 'MainThread': missing ScriptRunContext! This warning can be ignored when running in bare mode.\n",
      "2025-01-07 00:40:41.941 Thread 'MainThread': missing ScriptRunContext! This warning can be ignored when running in bare mode.\n",
      "2025-01-07 00:40:41.941 Thread 'MainThread': missing ScriptRunContext! This warning can be ignored when running in bare mode.\n",
      "2025-01-07 00:40:41.942 Thread 'MainThread': missing ScriptRunContext! This warning can be ignored when running in bare mode.\n",
      "2025-01-07 00:40:41.943 Thread 'MainThread': missing ScriptRunContext! This warning can be ignored when running in bare mode.\n",
      "2025-01-07 00:40:41.944 Thread 'MainThread': missing ScriptRunContext! This warning can be ignored when running in bare mode.\n",
      "2025-01-07 00:40:41.945 Thread 'MainThread': missing ScriptRunContext! This warning can be ignored when running in bare mode.\n",
      "2025-01-07 00:40:41.946 Thread 'MainThread': missing ScriptRunContext! This warning can be ignored when running in bare mode.\n",
      "2025-01-07 00:40:41.947 Thread 'MainThread': missing ScriptRunContext! This warning can be ignored when running in bare mode.\n"
     ]
    }
   ],
   "source": [
    "import streamlit as st\n",
    "from imblearn.over_sampling import SMOTE\n",
    "from sklearn.model_selection import train_test_split\n",
    "from sklearn.linear_model import LogisticRegression\n",
    "from sklearn.metrics import classification_report\n",
    "import pandas as pd\n",
    "import numpy as np\n",
    "\n",
    "# Generate random dataset\n",
    "X = np.random.rand(1000, 10)  \n",
    "y = np.random.choice([0, 1], size=(1000,))  \n",
    "\n",
    "# User interface\n",
    "st.title(\"Logistic Regression Model for Data Analysis\")\n",
    "st.write(\"This web application uses a logistic regression model after applying SMOTE to handle imbalanced data.\")\n",
    "\n",
    "# Split data into train and test\n",
    "X_train, X_test, y_train, y_test = train_test_split(X, y, test_size=0.2, random_state=42)\n",
    "\n",
    "# Apply SMOTE on the training set\n",
    "smote = SMOTE(sampling_strategy='auto', random_state=42)\n",
    "X_train_res, y_train_res = smote.fit_resample(X_train, y_train)\n",
    "\n",
    "# Train the logistic regression model\n",
    "model = LogisticRegression(C=100, max_iter=100, solver='liblinear')\n",
    "model.fit(X_train_res, y_train_res)\n",
    "\n",
    "# Predict using the test set\n",
    "y_pred = model.predict(X_test)\n",
    "\n",
    "# Display classification report\n",
    "report = classification_report(y_test, y_pred)\n",
    "st.subheader(\"Classification Report:\")\n",
    "st.text(report)\n",
    "\n",
    "# Add file upload feature\n",
    "st.subheader(\"Upload Your Data:\")\n",
    "uploaded_file = st.file_uploader(\"Choose a data file\", type=[\"csv\", \"xlsx\"])\n",
    "if uploaded_file is not None:\n",
    "    df = pd.read_csv(uploaded_file)\n",
    "    st.write(df.head())  # Display first 5 rows of the data\n"
   ]
  },
  {
   "cell_type": "code",
   "execution_count": 82,
   "metadata": {},
   "outputs": [
    {
     "data": {
      "text/plain": [
       "['logistic_regression_model.pkl']"
      ]
     },
     "execution_count": 82,
     "metadata": {},
     "output_type": "execute_result"
    }
   ],
   "source": [
    "import joblib\n",
    "\n",
    "joblib.dump(model, 'logistic_regression_model.pkl')\n"
   ]
  },
  {
   "cell_type": "code",
   "execution_count": 121,
   "metadata": {},
   "outputs": [
    {
     "name": "stdout",
     "output_type": "stream",
     "text": [
      "المعاملات:  [[-0.16925813  0.14080542  0.07637889 -0.06912851  0.13684881 -0.20286611\n",
      "   0.01079498 -0.23577532  0.17380057 -0.39535253]]\n",
      "feature1: -0.1692581323758294\n",
      "feature2: 0.14080542392960832\n"
     ]
    }
   ],
   "source": [
    "import joblib\n",
    "import numpy as np\n",
    "\n",
    "model = joblib.load('logistic_regression_model.pkl')\n",
    "\n",
    "\n",
    "features = ['feature1', 'feature2']  \n",
    "coefficients = model.coef_\n",
    "\n",
    "\n",
    "print(\"المعاملات: \", coefficients)\n",
    "\n",
    "for feature, coefficient in zip(features, coefficients[0]):\n",
    "    print(f'{feature}: {coefficient}')\n"
   ]
  },
  {
   "cell_type": "code",
   "execution_count": 122,
   "metadata": {},
   "outputs": [
    {
     "name": "stdout",
     "output_type": "stream",
     "text": [
      "Index(['feature1', 'feature2'], dtype='object')\n"
     ]
    }
   ],
   "source": [
    "import pandas as pd\n",
    "import numpy as np\n",
    "\n",
    "columns = ['feature1', 'feature2']  \n",
    "X_train = np.array([[1, 2], [3, 4], [5, 6]])  \n",
    "X_train_df = pd.DataFrame(X_train, columns=columns)\n",
    "\n",
    "print(X_train_df.columns)\n"
   ]
  },
  {
   "cell_type": "code",
   "execution_count": 123,
   "metadata": {},
   "outputs": [
    {
     "name": "stdout",
     "output_type": "stream",
     "text": [
      "feature1: -0.1692581323758294\n",
      "feature2: 0.14080542392960832\n"
     ]
    }
   ],
   "source": [
    "import joblib\n",
    "import numpy as np\n",
    "\n",
    "model = joblib.load('logistic_regression_model.pkl')\n",
    "\n",
    "columns = ['feature1', 'feature2']\n",
    "\n",
    "coefficients = model.coef_\n",
    "\n",
    "for feature, coef in zip(columns, coefficients[0]):\n",
    "    print(f'{feature}: {coef}')\n"
   ]
  },
  {
   "cell_type": "code",
   "execution_count": 124,
   "metadata": {},
   "outputs": [
    {
     "name": "stderr",
     "output_type": "stream",
     "text": [
      "2025-01-07 00:12:48.767 Thread 'MainThread': missing ScriptRunContext! This warning can be ignored when running in bare mode.\n",
      "2025-01-07 00:12:48.768 Thread 'MainThread': missing ScriptRunContext! This warning can be ignored when running in bare mode.\n",
      "2025-01-07 00:12:48.769 Thread 'MainThread': missing ScriptRunContext! This warning can be ignored when running in bare mode.\n",
      "2025-01-07 00:12:48.770 Thread 'MainThread': missing ScriptRunContext! This warning can be ignored when running in bare mode.\n",
      "2025-01-07 00:12:48.770 Thread 'MainThread': missing ScriptRunContext! This warning can be ignored when running in bare mode.\n",
      "2025-01-07 00:12:48.771 Thread 'MainThread': missing ScriptRunContext! This warning can be ignored when running in bare mode.\n",
      "2025-01-07 00:12:48.772 Thread 'MainThread': missing ScriptRunContext! This warning can be ignored when running in bare mode.\n",
      "2025-01-07 00:12:48.773 Thread 'MainThread': missing ScriptRunContext! This warning can be ignored when running in bare mode.\n",
      "2025-01-07 00:12:48.774 Thread 'MainThread': missing ScriptRunContext! This warning can be ignored when running in bare mode.\n",
      "2025-01-07 00:12:48.775 Thread 'MainThread': missing ScriptRunContext! This warning can be ignored when running in bare mode.\n",
      "2025-01-07 00:12:48.776 Thread 'MainThread': missing ScriptRunContext! This warning can be ignored when running in bare mode.\n",
      "2025-01-07 00:12:48.777 Thread 'MainThread': missing ScriptRunContext! This warning can be ignored when running in bare mode.\n",
      "2025-01-07 00:12:48.777 Thread 'MainThread': missing ScriptRunContext! This warning can be ignored when running in bare mode.\n",
      "2025-01-07 00:12:48.778 Thread 'MainThread': missing ScriptRunContext! This warning can be ignored when running in bare mode.\n",
      "2025-01-07 00:12:48.865 Thread 'MainThread': missing ScriptRunContext! This warning can be ignored when running in bare mode.\n",
      "2025-01-07 00:12:48.866 Thread 'MainThread': missing ScriptRunContext! This warning can be ignored when running in bare mode.\n",
      "2025-01-07 00:12:48.867 Thread 'MainThread': missing ScriptRunContext! This warning can be ignored when running in bare mode.\n",
      "2025-01-07 00:12:48.867 Thread 'MainThread': missing ScriptRunContext! This warning can be ignored when running in bare mode.\n",
      "2025-01-07 00:12:48.868 Thread 'MainThread': missing ScriptRunContext! This warning can be ignored when running in bare mode.\n",
      "2025-01-07 00:12:48.869 Thread 'MainThread': missing ScriptRunContext! This warning can be ignored when running in bare mode.\n",
      "2025-01-07 00:12:48.870 Thread 'MainThread': missing ScriptRunContext! This warning can be ignored when running in bare mode.\n",
      "2025-01-07 00:12:48.871 Thread 'MainThread': missing ScriptRunContext! This warning can be ignored when running in bare mode.\n",
      "2025-01-07 00:12:48.871 Thread 'MainThread': missing ScriptRunContext! This warning can be ignored when running in bare mode.\n",
      "2025-01-07 00:12:48.873 Thread 'MainThread': missing ScriptRunContext! This warning can be ignored when running in bare mode.\n",
      "2025-01-07 00:12:48.874 Thread 'MainThread': missing ScriptRunContext! This warning can be ignored when running in bare mode.\n",
      "2025-01-07 00:12:48.875 Thread 'MainThread': missing ScriptRunContext! This warning can be ignored when running in bare mode.\n",
      "2025-01-07 00:12:48.876 Thread 'MainThread': missing ScriptRunContext! This warning can be ignored when running in bare mode.\n",
      "2025-01-07 00:12:48.877 Thread 'MainThread': missing ScriptRunContext! This warning can be ignored when running in bare mode.\n",
      "2025-01-07 00:12:48.878 Thread 'MainThread': missing ScriptRunContext! This warning can be ignored when running in bare mode.\n",
      "2025-01-07 00:12:48.878 Thread 'MainThread': missing ScriptRunContext! This warning can be ignored when running in bare mode.\n",
      "2025-01-07 00:12:48.879 Thread 'MainThread': missing ScriptRunContext! This warning can be ignored when running in bare mode.\n",
      "2025-01-07 00:12:48.894 Thread 'MainThread': missing ScriptRunContext! This warning can be ignored when running in bare mode.\n",
      "2025-01-07 00:12:48.896 Thread 'MainThread': missing ScriptRunContext! This warning can be ignored when running in bare mode.\n",
      "2025-01-07 00:12:48.897 Thread 'MainThread': missing ScriptRunContext! This warning can be ignored when running in bare mode.\n",
      "2025-01-07 00:12:48.898 Thread 'MainThread': missing ScriptRunContext! This warning can be ignored when running in bare mode.\n",
      "2025-01-07 00:12:48.898 Thread 'MainThread': missing ScriptRunContext! This warning can be ignored when running in bare mode.\n",
      "2025-01-07 00:12:48.899 Thread 'MainThread': missing ScriptRunContext! This warning can be ignored when running in bare mode.\n",
      "2025-01-07 00:12:48.900 Thread 'MainThread': missing ScriptRunContext! This warning can be ignored when running in bare mode.\n",
      "2025-01-07 00:12:48.901 Thread 'MainThread': missing ScriptRunContext! This warning can be ignored when running in bare mode.\n",
      "2025-01-07 00:12:48.902 Thread 'MainThread': missing ScriptRunContext! This warning can be ignored when running in bare mode.\n",
      "2025-01-07 00:12:48.902 Thread 'MainThread': missing ScriptRunContext! This warning can be ignored when running in bare mode.\n",
      "2025-01-07 00:12:48.903 Thread 'MainThread': missing ScriptRunContext! This warning can be ignored when running in bare mode.\n",
      "2025-01-07 00:12:48.903 Thread 'MainThread': missing ScriptRunContext! This warning can be ignored when running in bare mode.\n",
      "2025-01-07 00:12:48.904 Thread 'MainThread': missing ScriptRunContext! This warning can be ignored when running in bare mode.\n",
      "2025-01-07 00:12:48.905 Thread 'MainThread': missing ScriptRunContext! This warning can be ignored when running in bare mode.\n",
      "2025-01-07 00:12:48.905 Thread 'MainThread': missing ScriptRunContext! This warning can be ignored when running in bare mode.\n",
      "2025-01-07 00:12:48.906 Thread 'MainThread': missing ScriptRunContext! This warning can be ignored when running in bare mode.\n",
      "2025-01-07 00:12:48.937 Thread 'MainThread': missing ScriptRunContext! This warning can be ignored when running in bare mode.\n",
      "2025-01-07 00:12:48.950 Thread 'MainThread': missing ScriptRunContext! This warning can be ignored when running in bare mode.\n",
      "2025-01-07 00:12:48.974 Thread 'MainThread': missing ScriptRunContext! This warning can be ignored when running in bare mode.\n",
      "2025-01-07 00:12:49.099 Thread 'MainThread': missing ScriptRunContext! This warning can be ignored when running in bare mode.\n",
      "2025-01-07 00:12:49.100 Thread 'MainThread': missing ScriptRunContext! This warning can be ignored when running in bare mode.\n",
      "2025-01-07 00:12:49.101 Thread 'MainThread': missing ScriptRunContext! This warning can be ignored when running in bare mode.\n",
      "2025-01-07 00:12:49.102 Thread 'MainThread': missing ScriptRunContext! This warning can be ignored when running in bare mode.\n",
      "2025-01-07 00:12:49.102 Thread 'MainThread': missing ScriptRunContext! This warning can be ignored when running in bare mode.\n",
      "2025-01-07 00:12:49.103 Thread 'MainThread': missing ScriptRunContext! This warning can be ignored when running in bare mode.\n",
      "2025-01-07 00:12:49.104 Thread 'MainThread': missing ScriptRunContext! This warning can be ignored when running in bare mode.\n",
      "2025-01-07 00:12:49.104 Thread 'MainThread': missing ScriptRunContext! This warning can be ignored when running in bare mode.\n",
      "2025-01-07 00:12:49.121 Thread 'MainThread': missing ScriptRunContext! This warning can be ignored when running in bare mode.\n",
      "2025-01-07 00:12:49.138 Thread 'MainThread': missing ScriptRunContext! This warning can be ignored when running in bare mode.\n",
      "2025-01-07 00:12:49.139 Thread 'MainThread': missing ScriptRunContext! This warning can be ignored when running in bare mode.\n",
      "2025-01-07 00:12:49.147 Thread 'MainThread': missing ScriptRunContext! This warning can be ignored when running in bare mode.\n",
      "2025-01-07 00:12:49.148 Thread 'MainThread': missing ScriptRunContext! This warning can be ignored when running in bare mode.\n"
     ]
    }
   ],
   "source": [
    "import streamlit as st\n",
    "import joblib\n",
    "import numpy as np\n",
    "\n",
    "# Load the pre-trained model\n",
    "model = joblib.load('logistic_regression_model.pkl')\n",
    "\n",
    "coefficients = model.coef_[0]  # Coefficients for the features\n",
    "intercept = model.intercept_[0]  # Intercept\n",
    "\n",
    "# Display model information to the user\n",
    "st.title('Model Information')\n",
    "st.write(f\"Intercept: {intercept}\")\n",
    "for i, coef in enumerate(coefficients):\n",
    "    st.write(f\"Coefficient for feature {i+1}: {coef}\")\n",
    "\n",
    "# User input\n",
    "feature1 = st.number_input('Feature 1', min_value=0, max_value=100, value=50)\n",
    "feature2 = st.number_input('Feature 2', min_value=0, max_value=100, value=50)\n",
    "\n",
    "# When the user clicks the button\n",
    "if st.button('Predict'):\n",
    "    # Arrange inputs in an array\n",
    "    input_data = np.array([[feature1, feature2]])\n",
    "    \n",
    "    # Use the model to make a prediction\n",
    "    prediction = model.predict(input_data)\n",
    "    \n",
    "    # Display the result\n",
    "    st.write(f'Prediction: {prediction[0]}')\n"
   ]
  },
  {
   "cell_type": "code",
   "execution_count": 102,
   "metadata": {},
   "outputs": [
    {
     "data": {
      "text/plain": [
       "['notebooks/logistic_regression_model.pkl']"
      ]
     },
     "execution_count": 102,
     "metadata": {},
     "output_type": "execute_result"
    }
   ],
   "source": [
    "import os\n",
    "import joblib\n",
    "\n",
    "os.makedirs('notebooks', exist_ok=True)\n",
    "\n",
    "joblib.dump(model, 'notebooks/logistic_regression_model.pkl')\n"
   ]
  },
  {
   "cell_type": "code",
   "execution_count": 103,
   "metadata": {},
   "outputs": [],
   "source": [
    "model = joblib.load('notebooks/logistic_regression_model.pkl')\n"
   ]
  },
  {
   "cell_type": "code",
   "execution_count": 104,
   "metadata": {},
   "outputs": [
    {
     "data": {
      "text/plain": [
       "['notebooks/logistic_regression_model.pkl']"
      ]
     },
     "execution_count": 104,
     "metadata": {},
     "output_type": "execute_result"
    }
   ],
   "source": [
    "joblib.dump(model, 'notebooks/logistic_regression_model.pkl')\n"
   ]
  },
  {
   "cell_type": "code",
   "execution_count": 106,
   "metadata": {},
   "outputs": [],
   "source": [
    "model = joblib.load(r'C:\\Users\\HP\\OneDrive\\Desktop\\min project isd\\isd\\notebooks\\logistic_regression_model.pkl')\n"
   ]
  },
  {
   "cell_type": "code",
   "execution_count": 108,
   "metadata": {},
   "outputs": [
    {
     "name": "stdout",
     "output_type": "stream",
     "text": [
      "  age  sex  on thyroxine  query on thyroxine  on antithyroid medication  sick  \\\n",
      "0  41  0.0             0                   0                          0     0   \n",
      "1  23  0.0             0                   0                          0     0   \n",
      "2  46  1.0             0                   0                          0     0   \n",
      "3  70  0.0             1                   0                          0     0   \n",
      "4  70  0.0             0                   0                          0     0   \n",
      "\n",
      "   pregnant  thyroid surgery  I131 treatment  query hypothyroid  ...  \\\n",
      "0         0                0               0                  0  ...   \n",
      "1         0                0               0                  0  ...   \n",
      "2         0                0               0                  0  ...   \n",
      "3         0                0               0                  0  ...   \n",
      "4         0                0               0                  0  ...   \n",
      "\n",
      "   TT4 measured  TT4  T4U measured   T4U  FTI measured  FTI  TBG measured TBG  \\\n",
      "0             1  125             1  1.14             1  109             0   0   \n",
      "1             1  102             0     0             0    0             0   0   \n",
      "2             1  109             1  0.91             1  120             0   0   \n",
      "3             1  175             0     0             0    0             0   0   \n",
      "4             1   61             1  0.87             1   70             0   0   \n",
      "\n",
      "   referral source binaryClass  \n",
      "0                1           1  \n",
      "1                4           1  \n",
      "2                4           1  \n",
      "3                4           1  \n",
      "4                3           1  \n",
      "\n",
      "[5 rows x 30 columns]\n",
      "Index(['age', 'sex', 'on thyroxine', 'query on thyroxine',\n",
      "       'on antithyroid medication', 'sick', 'pregnant', 'thyroid surgery',\n",
      "       'I131 treatment', 'query hypothyroid', 'query hyperthyroid', 'lithium',\n",
      "       'goitre', 'tumor', 'hypopituitary', 'psych', 'TSH measured', 'TSH',\n",
      "       'T3 measured', 'T3', 'TT4 measured', 'TT4', 'T4U measured', 'T4U',\n",
      "       'FTI measured', 'FTI', 'TBG measured', 'TBG', 'referral source',\n",
      "       'binaryClass'],\n",
      "      dtype='object')\n"
     ]
    }
   ],
   "source": [
    "\n",
    "print(data.head())\n",
    "print(data.columns)\n",
    "\n"
   ]
  }
 ],
 "metadata": {
  "kernelspec": {
   "display_name": "Python 3",
   "language": "python",
   "name": "python3"
  },
  "language_info": {
   "codemirror_mode": {
    "name": "ipython",
    "version": 3
   },
   "file_extension": ".py",
   "mimetype": "text/x-python",
   "name": "python",
   "nbconvert_exporter": "python",
   "pygments_lexer": "ipython3",
   "version": "3.13.0"
  }
 },
 "nbformat": 4,
 "nbformat_minor": 2
}
